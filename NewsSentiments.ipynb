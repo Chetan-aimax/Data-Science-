{
  "nbformat": 4,
  "nbformat_minor": 0,
  "metadata": {
    "colab": {
      "provenance": [],
      "authorship_tag": "ABX9TyOLLPokoaMNfTQX0g4o2IYD",
      "include_colab_link": true
    },
    "kernelspec": {
      "name": "python3",
      "display_name": "Python 3"
    },
    "language_info": {
      "name": "python"
    }
  },
  "cells": [
    {
      "cell_type": "markdown",
      "metadata": {
        "id": "view-in-github",
        "colab_type": "text"
      },
      "source": [
        "<a href=\"https://colab.research.google.com/github/Chetan-aimax/Data-Science-/blob/main/NewsSentiments.ipynb\" target=\"_parent\"><img src=\"https://colab.research.google.com/assets/colab-badge.svg\" alt=\"Open In Colab\"/></a>"
      ]
    },
    {
      "cell_type": "code",
      "source": [
        "import requests\n",
        "import json\n",
        "\n",
        "api_key = \"import requests\n",
        "import json\n",
        "\n",
        "\n",
        "api_key = \"295c35e5202640f0aa6b66c1ff99c8ff\"\n",
        "\n",
        "base_url = \"https://twitter.com/NewsAPIorg.\"\n",
        "\n",
        "# Set the endpoint and parameters for the API request\n",
        "endpoint = \"/articles\"\n",
        "params = {\n",
        "    \"q\": \"climate change\",  # Search for articles on climate change\n",
        "    \"api_key\": api_key\n",
        "}\n",
        "\n",
        "# Make the API request\n",
        "response = requests.get(base_url + endpoint, params=params)\n",
        "\n",
        "# Check the status code of the response\n",
        "if response.status_code == 200:\n",
        "    # If the request is successful, parse the JSON response\n",
        "    data = response.json()\n",
        "    \n",
        "    # Iterate over the list of articles\n",
        "    for article in data['articles']:\n",
        "        # Extract the text of the article\n",
        "        text = article['text']\n",
        "        \n",
        "        # Use an NLP library to classify the sentiment of the text\n",
        "        sentiment = classify_sentiment(text)\n",
        "        \n",
        "        # Print the sentiment of the article\n",
        "        print(f\"Sentiment: {sentiment}\")\n",
        "        \n",
        "        # Use a topic modeling algorithm to determine the main topics of the article\n",
        "        topics = extract_topics(text)\n",
        "        \n",
        "        # Print the main topics of the article\n",
        "        print(f\"Topics: {topics}\")\n",
        "\n",
        "else:\n",
        "    # If the request is not successful, print the error message\n",
        "    print(response.text)\n",
        "\"\n",
        "\n",
        "base_url = \"https://twitter.com/NewsAPIorg.\"\n",
        "\n",
        "# Set the endpoint and parameters for the API request\n",
        "endpoint = \"/articles\"\n",
        "params = {\n",
        "    \"q\": \"climate change\",  # Search for articles on climate change\n",
        "    \"api_key\": api_key\n",
        "}\n",
        "\n",
        "# Make the API request\n",
        "response = requests.get(base_url + endpoint, params=params)\n",
        "\n",
        "# Check the status code of the response\n",
        "if response.status_code == 200:\n",
        "    # If the request is successful, parse the JSON response\n",
        "    data = response.json()\n",
        "    \n",
        "    # Iterate over the list of articles\n",
        "    for article in data['articles']:\n",
        "        # Extract the text of the article\n",
        "        text = article['text']\n",
        "        \n",
        "        # Use an NLP library to classify the sentiment of the text\n",
        "        sentiment = classify_sentiment(text)\n",
        "        \n",
        "        # Print the sentiment of the article\n",
        "        print(f\"Sentiment: {sentiment}\")\n",
        "        \n",
        "        # Use a topic modeling algorithm to determine the main topics of the article\n",
        "        topics = extract_topics(text)\n",
        "        \n",
        "        # Print the main topics of the article\n",
        "        print(f\"Topics: {topics}\")\n",
        "\n",
        "else:\n",
        "    # If the request is not successful, print the error message\n",
        "    print(response.text)\n"
      ],
      "metadata": {
        "id": "MYBrKVjf28fc",
        "outputId": "708e34fd-bc89-46c1-963d-c48456687545",
        "colab": {
          "base_uri": "https://localhost:8080/",
          "height": 130
        }
      },
      "execution_count": 1,
      "outputs": [
        {
          "output_type": "error",
          "ename": "SyntaxError",
          "evalue": "ignored",
          "traceback": [
            "\u001b[0;36m  File \u001b[0;32m\"<ipython-input-1-372b5f532407>\"\u001b[0;36m, line \u001b[0;32m4\u001b[0m\n\u001b[0;31m    295c35e5202640f0aa6b66c1ff99c8ff = \"import requests\u001b[0m\n\u001b[0m       ^\u001b[0m\n\u001b[0;31mSyntaxError\u001b[0m\u001b[0;31m:\u001b[0m invalid syntax\n"
          ]
        }
      ]
    },
    {
      "cell_type": "code",
      "source": [],
      "metadata": {
        "id": "hH0rylmxPleF"
      },
      "execution_count": null,
      "outputs": []
    }
  ]
}